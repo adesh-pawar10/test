{
 "cells": [
  {
   "cell_type": "code",
   "execution_count": 1,
   "id": "a1024b23",
   "metadata": {},
   "outputs": [],
   "source": [
    "import numpy as np\n",
    "import pandas as pd"
   ]
  },
  {
   "cell_type": "code",
   "execution_count": 2,
   "id": "4a8b4077",
   "metadata": {},
   "outputs": [],
   "source": [
    "def n_gram(sentence, n): ## defining function\n",
    "    n_gram_list = [] ## empty list to store n gram of sentence\n",
    "    sentence = sentence.split() ## splitting the sentence\n",
    "    if n == 1:\n",
    "        return sentence ## return sentence \n",
    "    else:\n",
    "        for i in range(len(sentence) - n + 1): ## for loop to get n gram sentence\n",
    "            l1 = [] ## Empty List\n",
    "            for j in range(n): ## for loop to get list of n consecutive words\n",
    "                l1.append(sentence[i+j])\n",
    "            str1 = ' '.join(l1)\n",
    "            n_gram_list.append(str1)\n",
    "    return n_gram_list"
   ]
  },
  {
   "cell_type": "code",
   "execution_count": 3,
   "id": "3cb3c171",
   "metadata": {},
   "outputs": [
    {
     "data": {
      "text/plain": [
       "['i want some',\n",
       " 'want some consecutive',\n",
       " 'some consecutive words',\n",
       " 'consecutive words for',\n",
       " 'words for 5',\n",
       " 'for 5 grams']"
      ]
     },
     "execution_count": 3,
     "metadata": {},
     "output_type": "execute_result"
    }
   ],
   "source": [
    "n_gram('i want some consecutive words for 5 grams', 3)"
   ]
  },
  {
   "cell_type": "code",
   "execution_count": 4,
   "id": "50cf5640",
   "metadata": {},
   "outputs": [],
   "source": [
    "sent1 = 'I am on vacation next week'"
   ]
  },
  {
   "cell_type": "code",
   "execution_count": 5,
   "id": "734b9418",
   "metadata": {},
   "outputs": [],
   "source": [
    "def trigram(sentence): ## defining function\n",
    "    trigram = []  ## creating empty list\n",
    "    sentence = sentence.split()\n",
    "    for i in range(len(sentence)-2): ## for loop for trigram\n",
    "        trigram.append(sentence[i] + ' ' + sentence[i+1] + ' ' + sentence[i+2])\n",
    "    return trigram    "
   ]
  },
  {
   "cell_type": "code",
   "execution_count": 6,
   "id": "30dbbc99",
   "metadata": {},
   "outputs": [
    {
     "data": {
      "text/plain": [
       "['I am on', 'am on vacation', 'on vacation next', 'vacation next week']"
      ]
     },
     "execution_count": 6,
     "metadata": {},
     "output_type": "execute_result"
    }
   ],
   "source": [
    "trigram(sent1)"
   ]
  },
  {
   "cell_type": "code",
   "execution_count": null,
   "id": "eed9e9d7",
   "metadata": {},
   "outputs": [],
   "source": []
  }
 ],
 "metadata": {
  "kernelspec": {
   "display_name": "Python 3 (ipykernel)",
   "language": "python",
   "name": "python3"
  },
  "language_info": {
   "codemirror_mode": {
    "name": "ipython",
    "version": 3
   },
   "file_extension": ".py",
   "mimetype": "text/x-python",
   "name": "python",
   "nbconvert_exporter": "python",
   "pygments_lexer": "ipython3",
   "version": "3.9.12"
  }
 },
 "nbformat": 4,
 "nbformat_minor": 5
}
